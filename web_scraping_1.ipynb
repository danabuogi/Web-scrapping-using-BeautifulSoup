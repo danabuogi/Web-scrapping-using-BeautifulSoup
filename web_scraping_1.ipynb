{
  "nbformat": 4,
  "nbformat_minor": 0,
  "metadata": {
    "colab": {
      "provenance": [],
      "authorship_tag": "ABX9TyMz5Y2bwggq7/JK+OGbd3vm",
      "include_colab_link": true
    },
    "kernelspec": {
      "name": "python3",
      "display_name": "Python 3"
    },
    "language_info": {
      "name": "python"
    }
  },
  "cells": [
    {
      "cell_type": "markdown",
      "metadata": {
        "id": "view-in-github",
        "colab_type": "text"
      },
      "source": [
        "<a href=\"https://colab.research.google.com/github/danabuogi/danabuogi/blob/main/web_scraping_1.ipynb\" target=\"_parent\"><img src=\"https://colab.research.google.com/assets/colab-badge.svg\" alt=\"Open In Colab\"/></a>"
      ]
    },
    {
      "cell_type": "code",
      "execution_count": 13,
      "metadata": {
        "id": "exBYUdF9l-Ri"
      },
      "outputs": [],
      "source": [
        "import requests\n",
        "from bs4 import BeautifulSoup as bs\n",
        "import lxml"
      ]
    },
    {
      "cell_type": "code",
      "source": [
        "url=\"https://keithgalli.github.io/web-scraping/example.html\"\n",
        "headers={\"User-Agent\": \"Mozilla/5.0 (Windows NT 10.0; Win64; x64) AppleWebKit/537.36 (KHTML, like Gecko) Chrome/109.0.0.0 Safari/537.36\"}\n",
        "page=requests.get(url,headers=headers)\n",
        "soup=bs(page.content,\"lxml\")\n",
        "print(soup)"
      ],
      "metadata": {
        "colab": {
          "base_uri": "https://localhost:8080/"
        },
        "id": "57zuqmP5ptFx",
        "outputId": "b5ff0956-e927-415f-fd2e-e5be61b226a4"
      },
      "execution_count": 25,
      "outputs": [
        {
          "output_type": "stream",
          "name": "stdout",
          "text": [
            "<html>\n",
            "<head>\n",
            "<title>HTML Example</title>\n",
            "</head>\n",
            "<body>\n",
            "<div align=\"middle\">\n",
            "<h1>HTML Webpage</h1>\n",
            "<p>Link to more interesting example: <a href=\"https://keithgalli.github.io/web-scraping/webpage.html\">keithgalli.github.io/web-scraping/webpage.html</a></p>\n",
            "</div>\n",
            "<h2>A Header</h2>\n",
            "<p><i>Some italicized text</i></p>\n",
            "<h2>Another header</h2>\n",
            "<p id=\"paragraph-id\"><b>Some bold text</b></p>\n",
            "</body>\n",
            "</html>\n",
            "\n"
          ]
        }
      ]
    },
    {
      "cell_type": "code",
      "source": [
        "first_header=soup.find(\"h2\")\n",
        "headers=soup.find_all(\"h2\")\n",
        "print(first_header)\n",
        "print(headers)"
      ],
      "metadata": {
        "colab": {
          "base_uri": "https://localhost:8080/"
        },
        "id": "ik_gJ9wbvtxT",
        "outputId": "ce1624aa-ac9d-48df-cb0f-9b5041cea16b"
      },
      "execution_count": 26,
      "outputs": [
        {
          "output_type": "stream",
          "name": "stdout",
          "text": [
            "<h2>A Header</h2>\n",
            "[<h2>A Header</h2>, <h2>Another header</h2>]\n"
          ]
        }
      ]
    },
    {
      "cell_type": "code",
      "source": [
        "first_header=soup.find([\"h1\",\"h2\"])\n",
        "print(first_header)\n",
        "headers=soup.find_all([\"h1\",\"h2\"])\n",
        "print(headers)"
      ],
      "metadata": {
        "colab": {
          "base_uri": "https://localhost:8080/"
        },
        "id": "Yj5NWI6J_8o_",
        "outputId": "aa19ea5d-e019-4297-e91f-6b95ca70f54c"
      },
      "execution_count": 30,
      "outputs": [
        {
          "output_type": "stream",
          "name": "stdout",
          "text": [
            "<h1>HTML Webpage</h1>\n",
            "[<h1>HTML Webpage</h1>, <h2>A Header</h2>, <h2>Another header</h2>]\n"
          ]
        }
      ]
    },
    {
      "cell_type": "code",
      "source": [
        "paragraph=soup.find_all(\"p\",attrs={\"id\":\"paragraph-id\"})\n",
        "print(paragraph)"
      ],
      "metadata": {
        "colab": {
          "base_uri": "https://localhost:8080/"
        },
        "id": "WUwyhrz1D766",
        "outputId": "01aff8d4-1e78-4ff2-ae15-994a3061b550"
      },
      "execution_count": 32,
      "outputs": [
        {
          "output_type": "stream",
          "name": "stdout",
          "text": [
            "[<p id=\"paragraph-id\"><b>Some bold text</b></p>]\n"
          ]
        }
      ]
    },
    {
      "cell_type": "code",
      "source": [
        "body=soup.find(\"body\")\n",
        "print(body)"
      ],
      "metadata": {
        "colab": {
          "base_uri": "https://localhost:8080/"
        },
        "id": "-cYDiEmCFZWy",
        "outputId": "fd517f6b-e022-40c6-e92f-a692b85c890e"
      },
      "execution_count": 33,
      "outputs": [
        {
          "output_type": "stream",
          "name": "stdout",
          "text": [
            "<body>\n",
            "<div align=\"middle\">\n",
            "<h1>HTML Webpage</h1>\n",
            "<p>Link to more interesting example: <a href=\"https://keithgalli.github.io/web-scraping/webpage.html\">keithgalli.github.io/web-scraping/webpage.html</a></p>\n",
            "</div>\n",
            "<h2>A Header</h2>\n",
            "<p><i>Some italicized text</i></p>\n",
            "<h2>Another header</h2>\n",
            "<p id=\"paragraph-id\"><b>Some bold text</b></p>\n",
            "</body>\n"
          ]
        }
      ]
    },
    {
      "cell_type": "code",
      "source": [
        "div=body.find(\"div\")\n",
        "print(div)"
      ],
      "metadata": {
        "colab": {
          "base_uri": "https://localhost:8080/"
        },
        "id": "400IE1XtFuSW",
        "outputId": "3f01ea95-9e7b-4f25-a6ca-4edd20762048"
      },
      "execution_count": 35,
      "outputs": [
        {
          "output_type": "stream",
          "name": "stdout",
          "text": [
            "<div align=\"middle\">\n",
            "<h1>HTML Webpage</h1>\n",
            "<p>Link to more interesting example: <a href=\"https://keithgalli.github.io/web-scraping/webpage.html\">keithgalli.github.io/web-scraping/webpage.html</a></p>\n",
            "</div>\n"
          ]
        }
      ]
    },
    {
      "cell_type": "code",
      "source": [
        "header=div.find(\"h1\")\n",
        "print(header)"
      ],
      "metadata": {
        "colab": {
          "base_uri": "https://localhost:8080/"
        },
        "id": "_0Rgf_iFGP9J",
        "outputId": "3ad661db-3613-41e7-e244-90361a591266"
      },
      "execution_count": 38,
      "outputs": [
        {
          "output_type": "stream",
          "name": "stdout",
          "text": [
            "<h1>HTML Webpage</h1>\n"
          ]
        }
      ]
    },
    {
      "cell_type": "code",
      "source": [
        "import re\n",
        "paragraphs=soup.find_all(\"p\",string=re.compile(\"some bold\"))\n",
        "print(paragraphs)"
      ],
      "metadata": {
        "id": "jjF2Ix2vHYNj"
      },
      "execution_count": null,
      "outputs": []
    },
    {
      "cell_type": "code",
      "source": [
        "headers=soup.find_all(\"h2\",string=re.compile(\"header\"))\n",
        "print(headers)"
      ],
      "metadata": {
        "colab": {
          "base_uri": "https://localhost:8080/"
        },
        "id": "aifNzR2JJ2Pt",
        "outputId": "95c581e8-439f-45d7-f6bd-d8179a7025ac"
      },
      "execution_count": 45,
      "outputs": [
        {
          "output_type": "stream",
          "name": "stdout",
          "text": [
            "[<h2>Another header</h2>]\n"
          ]
        }
      ]
    },
    {
      "cell_type": "code",
      "source": [
        "headers=soup.find_all(\"h2\",string=re.compile(\"(H|h)eader\"))\n",
        "print(headers)"
      ],
      "metadata": {
        "colab": {
          "base_uri": "https://localhost:8080/"
        },
        "id": "ct6Uv-6NKeSQ",
        "outputId": "deef0ea7-aab2-441a-f890-22823fe52b33"
      },
      "execution_count": 49,
      "outputs": [
        {
          "output_type": "stream",
          "name": "stdout",
          "text": [
            "[<h2>A Header</h2>, <h2>Another header</h2>]\n"
          ]
        }
      ]
    },
    {
      "cell_type": "markdown",
      "source": [
        "***CSS Selector***"
      ],
      "metadata": {
        "id": "IffcnSksSnB7"
      }
    },
    {
      "cell_type": "code",
      "source": [
        "content=soup.select(\"p\")\n",
        "print(content)"
      ],
      "metadata": {
        "colab": {
          "base_uri": "https://localhost:8080/"
        },
        "id": "78RybpOSStYZ",
        "outputId": "e71bbc6a-a7f9-4da1-881b-4589a404ea09"
      },
      "execution_count": 50,
      "outputs": [
        {
          "output_type": "stream",
          "name": "stdout",
          "text": [
            "[<p>Link to more interesting example: <a href=\"https://keithgalli.github.io/web-scraping/webpage.html\">keithgalli.github.io/web-scraping/webpage.html</a></p>, <p><i>Some italicized text</i></p>, <p id=\"paragraph-id\"><b>Some bold text</b></p>]\n"
          ]
        }
      ]
    },
    {
      "cell_type": "code",
      "source": [
        "content=soup.select(\"div p\")\n",
        "print(content)"
      ],
      "metadata": {
        "colab": {
          "base_uri": "https://localhost:8080/"
        },
        "id": "v5OmrJqkTrW4",
        "outputId": "bbbe3a29-9de7-48e1-9fe4-f354002bd128"
      },
      "execution_count": 51,
      "outputs": [
        {
          "output_type": "stream",
          "name": "stdout",
          "text": [
            "[<p>Link to more interesting example: <a href=\"https://keithgalli.github.io/web-scraping/webpage.html\">keithgalli.github.io/web-scraping/webpage.html</a></p>]\n"
          ]
        }
      ]
    },
    {
      "cell_type": "code",
      "source": [
        "paragraphs=soup.select(\"h2 ~ p\")\n",
        "print(paragraphs)"
      ],
      "metadata": {
        "colab": {
          "base_uri": "https://localhost:8080/"
        },
        "id": "vxKe5VitUXGm",
        "outputId": "a6830ca7-00b2-4b2e-a8da-22588fb62e80"
      },
      "execution_count": 52,
      "outputs": [
        {
          "output_type": "stream",
          "name": "stdout",
          "text": [
            "[<p><i>Some italicized text</i></p>, <p id=\"paragraph-id\"><b>Some bold text</b></p>]\n"
          ]
        }
      ]
    },
    {
      "cell_type": "code",
      "source": [
        "bold_text=soup.select(\"p#paragraph-id b\")\n",
        "print(bold_text)"
      ],
      "metadata": {
        "colab": {
          "base_uri": "https://localhost:8080/"
        },
        "id": "pplF3ViEU0Z7",
        "outputId": "bf667f54-3d54-4cb4-b0b3-c68f5a04a84c"
      },
      "execution_count": 53,
      "outputs": [
        {
          "output_type": "stream",
          "name": "stdout",
          "text": [
            "[<b>Some bold text</b>]\n"
          ]
        }
      ]
    },
    {
      "cell_type": "code",
      "source": [
        "paragraphs=soup.select(\"body > p\")\n",
        "print(paragraphs)\n",
        "for paragraph in paragraphs:\n",
        "  print(paragraph.select(\"i\"))"
      ],
      "metadata": {
        "colab": {
          "base_uri": "https://localhost:8080/"
        },
        "id": "RpXGwghHV3nf",
        "outputId": "0d373c03-881f-430d-97db-98b816bf6a1a"
      },
      "execution_count": 56,
      "outputs": [
        {
          "output_type": "stream",
          "name": "stdout",
          "text": [
            "[<p><i>Some italicized text</i></p>, <p id=\"paragraph-id\"><b>Some bold text</b></p>]\n",
            "[<i>Some italicized text</i>]\n",
            "[]\n"
          ]
        }
      ]
    },
    {
      "cell_type": "markdown",
      "source": [
        "Get different properties of the html"
      ],
      "metadata": {
        "id": "OVOAUhjGXxhn"
      }
    },
    {
      "cell_type": "code",
      "source": [
        "header=soup.find(\"h2\")\n",
        "print(header)\n",
        "print(header.string)"
      ],
      "metadata": {
        "colab": {
          "base_uri": "https://localhost:8080/"
        },
        "id": "FhMAle6vX1s2",
        "outputId": "7d315966-22f2-43de-dc5e-08243f1310cf"
      },
      "execution_count": 57,
      "outputs": [
        {
          "output_type": "stream",
          "name": "stdout",
          "text": [
            "<h2>A Header</h2>\n",
            "A Header\n"
          ]
        }
      ]
    },
    {
      "cell_type": "code",
      "source": [
        "div=soup.find(\"div\")\n",
        "print(div)\n",
        "print(div.string)\n",
        "print(div.get_text())"
      ],
      "metadata": {
        "colab": {
          "base_uri": "https://localhost:8080/"
        },
        "id": "1VStAga7Yjie",
        "outputId": "d12721a6-6de8-4303-e701-8a11eb7bdf8a"
      },
      "execution_count": 60,
      "outputs": [
        {
          "output_type": "stream",
          "name": "stdout",
          "text": [
            "<div align=\"middle\">\n",
            "<h1>HTML Webpage</h1>\n",
            "<p>Link to more interesting example: <a href=\"https://keithgalli.github.io/web-scraping/webpage.html\">keithgalli.github.io/web-scraping/webpage.html</a></p>\n",
            "</div>\n",
            "None\n",
            "\n",
            "HTML Webpage\n",
            "Link to more interesting example: keithgalli.github.io/web-scraping/webpage.html\n",
            "\n"
          ]
        }
      ]
    },
    {
      "cell_type": "markdown",
      "source": [
        "getting specific property from an element"
      ],
      "metadata": {
        "id": "PGYpuZBpZkiC"
      }
    },
    {
      "cell_type": "code",
      "source": [
        "link=soup.find(\"a\")\n",
        "print(link)"
      ],
      "metadata": {
        "colab": {
          "base_uri": "https://localhost:8080/"
        },
        "id": "IqqwJROFZo_B",
        "outputId": "4b3151c2-a7d1-4b24-8f27-eefe8fe86ed3"
      },
      "execution_count": 61,
      "outputs": [
        {
          "output_type": "stream",
          "name": "stdout",
          "text": [
            "<a href=\"https://keithgalli.github.io/web-scraping/webpage.html\">keithgalli.github.io/web-scraping/webpage.html</a>\n"
          ]
        }
      ]
    },
    {
      "cell_type": "code",
      "source": [
        "link[\"href\"]"
      ],
      "metadata": {
        "colab": {
          "base_uri": "https://localhost:8080/",
          "height": 35
        },
        "id": "dmpf0Ha4aO2l",
        "outputId": "1427b6dd-9f39-4b96-d757-c409b4bd7e7f"
      },
      "execution_count": 66,
      "outputs": [
        {
          "output_type": "execute_result",
          "data": {
            "text/plain": [
              "'https://keithgalli.github.io/web-scraping/webpage.html'"
            ],
            "application/vnd.google.colaboratory.intrinsic+json": {
              "type": "string"
            }
          },
          "metadata": {},
          "execution_count": 66
        }
      ]
    },
    {
      "cell_type": "code",
      "source": [
        "print(link[\"href\"])"
      ],
      "metadata": {
        "colab": {
          "base_uri": "https://localhost:8080/"
        },
        "id": "GWW6aYbga71T",
        "outputId": "71271add-91e7-430f-d675-024fe52ef843"
      },
      "execution_count": 67,
      "outputs": [
        {
          "output_type": "stream",
          "name": "stdout",
          "text": [
            "https://keithgalli.github.io/web-scraping/webpage.html\n"
          ]
        }
      ]
    },
    {
      "cell_type": "code",
      "source": [
        "paragraphs=soup.select(\"p#paragraph-id\")\n",
        "print(paragraphs)\n",
        "print(paragraphs[0][\"id\"])"
      ],
      "metadata": {
        "colab": {
          "base_uri": "https://localhost:8080/"
        },
        "id": "GjOk9hyibvBD",
        "outputId": "1689dcfe-aa06-407f-9111-a900a4c1a61b"
      },
      "execution_count": 73,
      "outputs": [
        {
          "output_type": "stream",
          "name": "stdout",
          "text": [
            "[<p id=\"paragraph-id\"><b>Some bold text</b></p>]\n",
            "paragraph-id\n"
          ]
        }
      ]
    },
    {
      "cell_type": "code",
      "source": [
        "soup.body.div.h1.string"
      ],
      "metadata": {
        "colab": {
          "base_uri": "https://localhost:8080/",
          "height": 35
        },
        "id": "y-OO9-88dsgl",
        "outputId": "c3a4a506-8bb1-44d8-9cf7-d5c8969d6368"
      },
      "execution_count": 79,
      "outputs": [
        {
          "output_type": "execute_result",
          "data": {
            "text/plain": [
              "'HTML Webpage'"
            ],
            "application/vnd.google.colaboratory.intrinsic+json": {
              "type": "string"
            }
          },
          "metadata": {},
          "execution_count": 79
        }
      ]
    },
    {
      "cell_type": "code",
      "source": [
        "print(soup.body.prettify())"
      ],
      "metadata": {
        "colab": {
          "base_uri": "https://localhost:8080/"
        },
        "id": "tw9viSx3eVKH",
        "outputId": "d15b7571-0a3a-48a1-aca5-16c50ffd2709"
      },
      "execution_count": 80,
      "outputs": [
        {
          "output_type": "stream",
          "name": "stdout",
          "text": [
            "<body>\n",
            " <div align=\"middle\">\n",
            "  <h1>\n",
            "   HTML Webpage\n",
            "  </h1>\n",
            "  <p>\n",
            "   Link to more interesting example:\n",
            "   <a href=\"https://keithgalli.github.io/web-scraping/webpage.html\">\n",
            "    keithgalli.github.io/web-scraping/webpage.html\n",
            "   </a>\n",
            "  </p>\n",
            " </div>\n",
            " <h2>\n",
            "  A Header\n",
            " </h2>\n",
            " <p>\n",
            "  <i>\n",
            "   Some italicized text\n",
            "  </i>\n",
            " </p>\n",
            " <h2>\n",
            "  Another header\n",
            " </h2>\n",
            " <p id=\"paragraph-id\">\n",
            "  <b>\n",
            "   Some bold text\n",
            "  </b>\n",
            " </p>\n",
            "</body>\n",
            "\n"
          ]
        }
      ]
    },
    {
      "cell_type": "code",
      "source": [
        "soup.body.find(\"div\").find_next_siblings"
      ],
      "metadata": {
        "colab": {
          "base_uri": "https://localhost:8080/"
        },
        "id": "8wp9DuVBe7aO",
        "outputId": "54108334-1a9d-4380-8196-b7893ea6badf"
      },
      "execution_count": 82,
      "outputs": [
        {
          "output_type": "execute_result",
          "data": {
            "text/plain": [
              "<bound method PageElement.find_next_siblings of <div align=\"middle\">\n",
              "<h1>HTML Webpage</h1>\n",
              "<p>Link to more interesting example: <a href=\"https://keithgalli.github.io/web-scraping/webpage.html\">keithgalli.github.io/web-scraping/webpage.html</a></p>\n",
              "</div>>"
            ]
          },
          "metadata": {},
          "execution_count": 82
        }
      ]
    }
  ]
}